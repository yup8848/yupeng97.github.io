{
 "cells": [
  {
   "cell_type": "code",
   "execution_count": 82,
   "metadata": {},
   "outputs": [],
   "source": [
    "from sklearn.neural_network import MLPClassifier\n",
    "from sklearn.model_selection import train_test_split\n",
    "from sklearn.preprocessing import StandardScaler\n",
    "from sklearn.metrics import classification_report,confusion_matrix\n",
    "from sklearn import decomposition\n",
    "import matplotlib.pyplot as plt\n",
    "import pandas as pd\n",
    "import calendar\n",
    "import sklearn.preprocessing as pre_processing\n",
    "import numpy as np"
   ]
  },
  {
   "cell_type": "code",
   "execution_count": 103,
   "metadata": {},
   "outputs": [
    {
     "name": "stdout",
     "output_type": "stream",
     "text": [
      "油耗量（当天）    False\n",
      "dtype: bool\n",
      "<class 'pandas.core.frame.DataFrame'>\n",
      "Int64Index: 2273 entries, 1577 to 2087\n",
      "Data columns (total 44 columns):\n",
      " #   Column          Non-Null Count  Dtype  \n",
      "---  ------          --------------  -----  \n",
      " 0   吨位              2273 non-null   float64\n",
      " 1   当日有派车次数         2273 non-null   float64\n",
      " 2   全天行驶里程km        2273 non-null   float64\n",
      " 3   其中任务行驶里程km      2273 non-null   float64\n",
      " 4   全天运行时长（点火时长）hh  2273 non-null   float64\n",
      " 5   其中任务行驶时长hh      2273 non-null   float64\n",
      " 6   全天静驶时长          2273 non-null   float64\n",
      " 7   平均时速km/h        2273 non-null   float64\n",
      " 8   最大扭距            2273 non-null   float64\n",
      " 9   平均扭距            2273 non-null   float64\n",
      " 10  急刹车次数           2273 non-null   float64\n",
      " 11  超速报警次数          2273 non-null   float64\n",
      " 12  前3日平均运行里程km     2273 non-null   float64\n",
      " 13  前3日日平均运行时长h     2273 non-null   float64\n",
      " 14  近4日平均运行里程km     2273 non-null   float64\n",
      " 15  近4日日平均运行时长h     2273 non-null   float64\n",
      " 16  怠速次数            2273 non-null   float64\n",
      " 17  怠速时长mm          2273 non-null   float64\n",
      " 18  任务百公里油耗（L）      2273 non-null   float64\n",
      " 19  全里程百公里油耗（L）     2273 non-null   float64\n",
      " 20  高档低速次数          2273 non-null   float64\n",
      " 21  高档低速累计时长mm      2273 non-null   float64\n",
      " 22  低档高速次数          2273 non-null   float64\n",
      " 23  低档高速累计时长mm      2273 non-null   float64\n",
      " 24  空档滑行次数          2273 non-null   float64\n",
      " 25  空档滑行时长mm        2273 non-null   float64\n",
      " 26  Can设备状态         2273 non-null   float64\n",
      " 27  市趟次数            2273 non-null   float64\n",
      " 28  一干次数            2273 non-null   float64\n",
      " 29  二干次数            2273 non-null   float64\n",
      " 30  里程标杆值km         2273 non-null   float64\n",
      " 31  实际里程参考值km       2273 non-null   float64\n",
      " 32  位置总数            2273 non-null   float64\n",
      " 33  未锁星数            2273 non-null   float64\n",
      " 34  延迟位置数           2273 non-null   float64\n",
      " 35  行驶位置数           2273 non-null   float64\n",
      " 36  间隔大位置数          2273 non-null   float64\n",
      " 37  ACC关位置数         2273 non-null   float64\n",
      " 38  行驶时长            2273 non-null   float64\n",
      " 39  拉直线次数           2273 non-null   float64\n",
      " 40  拉直线总距离          2273 non-null   float64\n",
      " 41  设备类型            2273 non-null   float64\n",
      " 42  在线时长            2273 non-null   float64\n",
      " 43  里程误差            2273 non-null   float64\n",
      "dtypes: float64(44)\n",
      "memory usage: 799.1 KB\n",
      "None\n"
     ]
    },
    {
     "data": {
      "text/plain": [
       "[]"
      ]
     },
     "execution_count": 103,
     "metadata": {},
     "output_type": "execute_result"
    }
   ],
   "source": [
    "datasets = pd.read_excel('..\\【071】单车日报表.xlsx')\n",
    "\n",
    "#载入维度数据\n",
    "x_data = datasets[[ '吨位', '当日有派车次数',\n",
    "                   '全天行驶里程km', '其中任务行驶里程km', '全天运行时长（点火时长）hh', '其中任务行驶时长hh', '全天静驶时长',\n",
    "                   '平均时速km/h', '最大扭距', '平均扭距', '急刹车次数', '超速报警次数', '前3日平均运行里程km', '前3日日平均运行时长h',\n",
    "                   '近4日平均运行里程km', '近4日日平均运行时长h', '怠速次数', '怠速时长mm', '任务百公里油耗（L）', '全里程百公里油耗（L）'\n",
    "                   , '高档低速次数', '高档低速累计时长mm', '低档高速次数', '低档高速累计时长mm', '空档滑行次数', '空档滑行时长mm',\n",
    "                   'Can设备状态',  '市趟次数', '一干次数', '二干次数', '里程标杆值km',\n",
    "                  '实际里程参考值km', '位置总数', '未锁星数', '延迟位置数',\n",
    "                   '行驶位置数', '间隔大位置数', 'ACC关位置数',  '行驶时长', '拉直线次数', '拉直线总距离', \n",
    "                   '设备类型', '在线时长', '里程误差']]\n",
    "x_data = x_data.replace([np.inf, -np.inf], np.nan)\n",
    "x_data = x_data.fillna(0)\n",
    "\n",
    "\n",
    "#载入标签数据\n",
    "\n",
    "\n",
    "y_data = datasets['油耗量（当天）']\n",
    "print(y_train.isnull().any())\n",
    "#分割数据1/4为测试，3/4为训练数据\n",
    "x_train,x_test,y_train,y_test = train_test_split(x_data,y_data)\n",
    "\n",
    "print(x_train.info())\n",
    "\n",
    "'''\n",
    "'日期y/m/d', '车牌号', '配属单位', '使用单位', '车辆名称', '规格型号', '登记日期', '吨位', '当日有派车次数',\n",
    "                   '全天行驶里程km', '其中任务行驶里程km', '全天运行时长（点火时长）hh', '其中任务行驶时长hh', '全天静驶时长',\n",
    "                   '平均时速km/h', '最大扭距', '平均扭距', '急刹车次数', '超速报警次数', '前3日平均运行里程km', '前3日日平均运行时长h',\n",
    "                   '近4日平均运行里程km', '近4日日平均运行时长h', '怠速次数', '怠速时长mm', '任务百公里油耗（L）', '全里程百公里油耗（L）'\n",
    "                   , '高档低速次数', '高档低速累计时长mm', '低档高速次数', '低档高速累计时长mm', '空档滑行次数', '空档滑行时长mm',\n",
    "                   'Can设备状态', '车型', '单位分组', '能源类型',  '市趟次数', '一干次数', '二干次数', '里程标杆值km',\n",
    "                   '里程利用率', '时长标杆值h', '时长利用率', '实际里程参考值km', '位置总数', '未锁星数', '未锁星占比', '延迟位置数',\n",
    "                   '行驶位置数', '间隔大位置数', 'ACC关位置数', '行驶时长', '拉直线次数', '拉直线总距离', '设备序列号', \n",
    "                   '设备类型', '在线时长', '设备状态', '24小时内离线', '里程误差', '报废状态', '311/388/29/72批次', '294无里程关注', \n",
    "                   '930速递', '118重汽'\n",
    "                   \n",
    "'''\n",
    "'''\n",
    "label=pre_processing.LabelEncoder()\n",
    "labels=label.fit_transform(['中','符','法','吧'])\n",
    "print(labels)\n",
    "'''\n",
    "\n",
    "\n",
    "\n",
    "\n",
    "#查看非数值的列\n",
    "unvalue_type = x_data.select_dtypes(include=object, exclude=None)\n",
    "unvalue_type.columns.values.tolist()\n",
    "\n"
   ]
  },
  {
   "cell_type": "code",
   "execution_count": null,
   "metadata": {},
   "outputs": [],
   "source": [
    "# standardize the feature 标准化\n",
    "sc = StandardScaler()\n",
    "x_train_std = sc.fit_transform(x_train)\n",
    "x_test_std = sc.fit_transform(x_test)\n",
    "x_train_std.shape"
   ]
  },
  {
   "cell_type": "code",
   "execution_count": 85,
   "metadata": {},
   "outputs": [
    {
     "data": {
      "text/plain": [
       "array([[-0.05373349, -0.24894933, -0.58067477, ...,  0.        ,\n",
       "        -0.75106064,  0.02134368],\n",
       "       [-0.43538194, -0.24894933, -0.58067477, ...,  0.        ,\n",
       "        -0.75106064,  0.02134368],\n",
       "       [-0.43538194, -0.24894933, -0.58067477, ...,  0.        ,\n",
       "        -0.75106064,  0.02134368],\n",
       "       ...,\n",
       "       [-0.43538194, -0.24894933,  0.11144882, ...,  0.        ,\n",
       "        -0.15740351,  0.03816164],\n",
       "       [-0.54442435, -0.24894933, -0.58067477, ...,  0.        ,\n",
       "        -0.75106064,  0.02134368],\n",
       "       [-0.54442435, -0.24894933, -0.58067477, ...,  0.        ,\n",
       "        -0.75106064,  0.02134368]])"
      ]
     },
     "execution_count": 85,
     "metadata": {},
     "output_type": "execute_result"
    }
   ],
   "source": [
    "x_train_std"
   ]
  },
  {
   "cell_type": "code",
   "execution_count": 86,
   "metadata": {},
   "outputs": [
    {
     "name": "stdout",
     "output_type": "stream",
     "text": [
      "values\n",
      "  [1.33120907e+01 4.54394269e+00 2.54373657e+00 2.27841524e+00\n",
      " 1.86939404e+00 1.73825781e+00 1.37358373e+00 1.22196118e+00\n",
      " 1.08187888e+00 9.93725400e-01 8.94522495e-01 8.28137550e-01\n",
      " 8.38904351e-01 7.32129320e-01 6.13821180e-01 5.70493442e-01\n",
      " 5.07378241e-01 4.59172281e-01 4.18023164e-01 3.89133297e-01\n",
      " 3.26019717e-01 3.01562910e-01 2.38273352e-01 1.86867906e-01\n",
      " 1.74125550e-01 1.48362526e-01 1.16616853e-01 1.01400615e-01\n",
      " 8.49879931e-02 5.25343267e-02 2.75407036e-02 1.92796188e-02\n",
      " 1.35122453e-02 1.32125371e-02 3.11430085e-03 1.05213848e-03\n",
      " 6.86331309e-07 4.16961417e-16 1.46019852e-15 0.00000000e+00\n",
      " 0.00000000e+00 0.00000000e+00 0.00000000e+00 0.00000000e+00] \n",
      "vector\n",
      "  [[ 0.13448656  0.09764632  0.12957853 ...  0.          0.\n",
      "   0.        ]\n",
      " [ 0.09375052  0.04264445 -0.08352007 ...  0.          0.\n",
      "   0.        ]\n",
      " [ 0.25128705  0.10754083 -0.04167555 ...  0.          0.\n",
      "   0.        ]\n",
      " ...\n",
      " [ 0.          0.          0.         ...  0.          0.\n",
      "   1.        ]\n",
      " [ 0.13054103 -0.0694022  -0.25696516 ...  0.          0.\n",
      "   0.        ]\n",
      " [-0.02122665 -0.02265406  0.07721341 ...  0.          0.\n",
      "   0.        ]]\n"
     ]
    }
   ],
   "source": [
    "cov_matrix = np.cov(x_train_std.T)\n",
    "eigen_val, eigen_vec = np.linalg.eig(cov_matrix)\n",
    "print(\"values\\n \", eigen_val, \"\\nvector\\n \", eigen_vec)# 可以打印看看"
   ]
  },
  {
   "cell_type": "code",
   "execution_count": 87,
   "metadata": {},
   "outputs": [
    {
     "data": {
      "image/png": "[encoded data removed]",
      "text/plain": [
       "<Figure size 432x288 with 1 Axes>"
      ]
     },
     "metadata": {
      "needs_background": "light"
     },
     "output_type": "display_data"
    }
   ],
   "source": [
    "# 解释方差比\n",
    "tot = sum(eigen_val) # 总特征值和\n",
    "var_exp = [(i / tot) for i in sorted(eigen_val, reverse=True)] # 计算解释方差比，降序\n",
    "# print(var_exp)\n",
    "cum_var_exp = np.cumsum(var_exp) # 累加方差比率\n",
    "plt.rcParams['font.sans-serif'] = ['SimHei'] # 显示中文\n",
    "plt.bar(range(1, 45), var_exp, alpha=0.5, align='center', label='独立解释方差') # 柱状 Individual_explained_variance\n",
    "plt.step(range(1, 45), cum_var_exp, where='mid', label='累加解释方差') # Cumulative_explained_variance\n",
    "plt.ylabel(\"解释方差率\")\n",
    "plt.xlabel(\"主成分索引\")\n",
    "plt.legend(loc='right')\n",
    "plt.show()\n"
   ]
  },
  {
   "cell_type": "code",
   "execution_count": 88,
   "metadata": {},
   "outputs": [],
   "source": [
    "# 特征变换\n",
    "eigen_pairs = [(np.abs(eigen_val[i]), eigen_vec[:, i]) for i in range(len(eigen_val))]\n",
    "eigen_pairs.sort(key=lambda k: k[0], reverse=True) # (特征值，特征向量)降序排列"
   ]
  },
  {
   "cell_type": "code",
   "execution_count": 89,
   "metadata": {},
   "outputs": [
    {
     "data": {
      "text/plain": [
       "array([[ 1.34486565e-01,  9.76463198e-02],\n",
       "       [ 9.37505153e-02,  4.26444515e-02],\n",
       "       [ 2.51287048e-01,  1.07540826e-01],\n",
       "       [ 1.95042972e-01,  2.43152783e-01],\n",
       "       [ 2.36744019e-01, -7.04390600e-02],\n",
       "       [ 1.94171289e-01,  2.35388771e-01],\n",
       "       [ 1.55624560e-01, -1.56986543e-01],\n",
       "       [ 8.86175960e-02, -5.66394999e-02],\n",
       "       [ 0.00000000e+00,  0.00000000e+00],\n",
       "       [ 0.00000000e+00,  0.00000000e+00],\n",
       "       [ 1.47974418e-01, -9.75159168e-02],\n",
       "       [ 0.00000000e+00,  0.00000000e+00],\n",
       "       [ 2.35658682e-01,  8.25980704e-02],\n",
       "       [ 2.14268760e-01, -5.79844472e-02],\n",
       "       [ 2.46983211e-01,  9.33858671e-02],\n",
       "       [ 2.26567119e-01, -6.20715995e-02],\n",
       "       [ 1.45939384e-01, -3.15644557e-01],\n",
       "       [ 1.38152554e-01, -2.80057783e-01],\n",
       "       [ 1.22383167e-01,  1.91515243e-05],\n",
       "       [ 1.02529608e-01, -1.60199447e-01],\n",
       "       [ 1.89826155e-01,  3.05877204e-02],\n",
       "       [ 2.05608758e-01,  2.04815239e-01],\n",
       "       [ 7.23025428e-02, -3.39211372e-01],\n",
       "       [ 7.05274140e-02, -3.29628536e-01],\n",
       "       [ 1.66727808e-01,  2.15321023e-01],\n",
       "       [ 1.59554322e-01,  2.21286444e-01],\n",
       "       [-1.21752258e-01,  2.10495201e-01],\n",
       "       [ 7.59234835e-02,  1.71791006e-02],\n",
       "       [ 1.23041980e-01,  1.71119064e-01],\n",
       "       [ 0.00000000e+00,  0.00000000e+00],\n",
       "       [ 2.02521913e-01,  7.33044206e-02],\n",
       "       [ 2.50940967e-01,  1.04966493e-01],\n",
       "       [ 2.01187061e-01, -2.33355313e-01],\n",
       "       [ 6.38806407e-02, -1.75406298e-01],\n",
       "       [ 1.04710893e-02, -4.25347430e-02],\n",
       "       [ 1.88028317e-01, -2.04939741e-01],\n",
       "       [ 2.00546791e-02,  5.48043969e-02],\n",
       "       [ 5.52583187e-02, -5.72233938e-02],\n",
       "       [ 2.49062670e-01,  2.79937961e-02],\n",
       "       [ 3.47109103e-03,  5.08136330e-03],\n",
       "       [ 8.46607325e-03, -8.93857765e-03],\n",
       "       [ 0.00000000e+00,  0.00000000e+00],\n",
       "       [ 1.30541030e-01, -6.94021968e-02],\n",
       "       [-2.12266521e-02, -2.26540597e-02]])"
      ]
     },
     "execution_count": 89,
     "metadata": {},
     "output_type": "execute_result"
    }
   ],
   "source": [
    "w = np.hstack((eigen_pairs[0][1][:, np.newaxis], eigen_pairs[1][1][:, np.newaxis])) # 降维投影矩阵W\n",
    "w"
   ]
  },
  {
   "cell_type": "code",
   "execution_count": 155,
   "metadata": {},
   "outputs": [
    {
     "data": {
      "text/plain": [
       "array([[-2.97191448,  1.20068416],\n",
       "       [-3.02324107,  1.16341759],\n",
       "       [-3.02324107,  1.16341759],\n",
       "       ...,\n",
       "       [-0.62195507,  1.21071807],\n",
       "       [-3.03790581,  1.15277   ],\n",
       "       [-3.03790581,  1.15277   ]])"
      ]
     },
     "execution_count": 155,
     "metadata": {},
     "output_type": "execute_result"
    }
   ],
   "source": [
    "x_train_pca = x_train_std.dot(w)\n",
    "x_train_pca"
   ]
  },
  {
   "cell_type": "code",
   "execution_count": 182,
   "metadata": {
    "scrolled": true
   },
   "outputs": [
    {
     "ename": "IndexError",
     "evalue": "too many indices for array: array is 2-dimensional, but 3 were indexed",
     "output_type": "error",
     "traceback": [
      "\u001b[1;31m---------------------------------------------------------------------------\u001b[0m",
      "\u001b[1;31mIndexError\u001b[0m                                Traceback (most recent call last)",
      "\u001b[1;32m<ipython-input-182-c7cb93a08ba9>\u001b[0m in \u001b[0;36m<module>\u001b[1;34m\u001b[0m\n\u001b[0;32m      2\u001b[0m \u001b[0mmarker\u001b[0m \u001b[1;33m=\u001b[0m \u001b[1;33m[\u001b[0m\u001b[1;34m's'\u001b[0m\u001b[1;33m,\u001b[0m \u001b[1;34m'x'\u001b[0m\u001b[1;33m,\u001b[0m \u001b[1;34m'o'\u001b[0m\u001b[1;33m]\u001b[0m\u001b[1;33m\u001b[0m\u001b[0m\n\u001b[0;32m      3\u001b[0m \u001b[1;32mfor\u001b[0m \u001b[0ml\u001b[0m\u001b[1;33m,\u001b[0m \u001b[0mc\u001b[0m\u001b[1;33m,\u001b[0m \u001b[0mm\u001b[0m \u001b[1;32min\u001b[0m \u001b[0mzip\u001b[0m\u001b[1;33m(\u001b[0m\u001b[0mnp\u001b[0m\u001b[1;33m.\u001b[0m\u001b[0munique\u001b[0m\u001b[1;33m(\u001b[0m\u001b[0my_train\u001b[0m\u001b[1;33m)\u001b[0m\u001b[1;33m,\u001b[0m \u001b[0mcolor\u001b[0m\u001b[1;33m,\u001b[0m \u001b[0mmarker\u001b[0m\u001b[1;33m)\u001b[0m\u001b[1;33m:\u001b[0m\u001b[1;33m\u001b[0m\u001b[0m\n\u001b[1;32m----> 4\u001b[1;33m     plt.scatter(x_train_pca[y_train == l, 0],\n\u001b[0m\u001b[0;32m      5\u001b[0m     \u001b[0mx_train_pca\u001b[0m\u001b[1;33m[\u001b[0m\u001b[0my_train\u001b[0m \u001b[1;33m==\u001b[0m \u001b[0ml\u001b[0m\u001b[1;33m,\u001b[0m \u001b[1;36m1\u001b[0m\u001b[1;33m]\u001b[0m\u001b[1;33m,\u001b[0m\u001b[1;33m\u001b[0m\u001b[0m\n\u001b[0;32m      6\u001b[0m     c=c, label=l, marker=m)\n",
      "\u001b[1;31mIndexError\u001b[0m: too many indices for array: array is 2-dimensional, but 3 were indexed"
     ]
    }
   ],
   "source": [
    "color = ['r', 'g', 'b']\n",
    "marker = ['s', 'x', 'o']\n",
    "for l, c, m in zip(np.unique(y_train), color, marker):\n",
    "    plt.scatter(x_train_pca[y_train == l, 0],\n",
    "    x_train_pca[y_train == l, 1],\n",
    "    c=c, label=l, marker=m)\n",
    "plt.rcParams['font.sans-serif'] = ['SimHei'] # 显示中文\n",
    "plt.title('Result')\n",
    "plt.xlabel('PC1')\n",
    "plt.ylabel('PC2')\n",
    "plt.legend(loc='lower left')\n",
    "plt.show()"
   ]
  },
  {
   "cell_type": "code",
   "execution_count": 99,
   "metadata": {},
   "outputs": [
    {
     "name": "stdout",
     "output_type": "stream",
     "text": [
      "油耗量（当天）    False\n",
      "dtype: bool\n"
     ]
    },
    {
     "name": "stderr",
     "output_type": "stream",
     "text": [
      "c:\\users\\administrator\\appdata\\local\\programs\\python\\python36\\lib\\site-packages\\sklearn\\utils\\validation.py:73: DataConversionWarning: A column-vector y was passed when a 1d array was expected. Please change the shape of y to (n_samples, ), for example using ravel().\n",
      "  return f(**kwargs)\n"
     ]
    },
    {
     "data": {
      "text/plain": [
       "MLPClassifier(hidden_layer_sizes=(100, 50), max_iter=500)"
      ]
     },
     "execution_count": 99,
     "metadata": {},
     "output_type": "execute_result"
    }
   ],
   "source": [
    "#构建一个神经元-所有特征做训练\n",
    "#两隐藏层，一个100神经元，一个50神经元，epoch  500次\n",
    "mlp = MLPClassifier(hidden_layer_sizes = (100,50),max_iter = 500)\n",
    "y_train = pd.DataFrame(y_train.fillna(0))\n",
    "y_train = y_train.astype('int')\n",
    "print(y_train.isnull().any())\n",
    "mlp.fit(x_train,y_train)\n"
   ]
  },
  {
   "cell_type": "code",
   "execution_count": 97,
   "metadata": {},
   "outputs": [
    {
     "name": "stdout",
     "output_type": "stream",
     "text": [
      "False\n"
     ]
    }
   ],
   "source": [
    "print(y_test.isnull().any())"
   ]
  },
  {
   "cell_type": "code",
   "execution_count": 108,
   "metadata": {},
   "outputs": [
    {
     "name": "stdout",
     "output_type": "stream",
     "text": [
      "<class 'numpy.ndarray'>\n",
      "<class 'pandas.core.series.Series'>\n",
      "              precision    recall  f1-score   support\n",
      "\n",
      "           0       0.99      0.98      0.99       521\n",
      "           1       0.05      0.92      0.09        12\n",
      "           2       0.00      0.00      0.00        11\n",
      "           3       0.00      0.00      0.00        17\n",
      "           4       0.00      0.00      0.00        29\n",
      "           5       0.00      0.00      0.00        20\n",
      "           6       0.00      0.00      0.00         3\n",
      "           7       0.00      0.00      0.00        13\n",
      "           8       0.00      0.00      0.00        15\n",
      "           9       0.00      0.00      0.00         5\n",
      "          10       0.00      0.00      0.00         9\n",
      "          11       0.00      0.00      0.00        18\n",
      "          12       0.00      0.00      0.00        20\n",
      "          14       0.00      0.00      0.00         1\n",
      "          15       0.00      0.00      0.00         9\n",
      "          16       0.00      0.00      0.00         5\n",
      "          18       0.00      0.00      0.00         7\n",
      "          19       0.00      0.00      0.00        33\n",
      "          20       0.00      0.00      0.00         1\n",
      "          21       0.00      0.00      0.00         6\n",
      "          22       0.00      0.00      0.00         1\n",
      "          49       0.00      0.00      0.00         1\n",
      "          70       0.00      0.00      0.00         1\n",
      "\n",
      "    accuracy                           0.69       758\n",
      "   macro avg       0.05      0.08      0.05       758\n",
      "weighted avg       0.68      0.69      0.68       758\n",
      "\n",
      "[[511  10   0   0   0   0   0   0   0   0   0   0   0   0   0   0   0   0\n",
      "    0   0   0   0   0]\n",
      " [  1  11   0   0   0   0   0   0   0   0   0   0   0   0   0   0   0   0\n",
      "    0   0   0   0   0]\n",
      " [  0  11   0   0   0   0   0   0   0   0   0   0   0   0   0   0   0   0\n",
      "    0   0   0   0   0]\n",
      " [  0  17   0   0   0   0   0   0   0   0   0   0   0   0   0   0   0   0\n",
      "    0   0   0   0   0]\n",
      " [  0  29   0   0   0   0   0   0   0   0   0   0   0   0   0   0   0   0\n",
      "    0   0   0   0   0]\n",
      " [  0  20   0   0   0   0   0   0   0   0   0   0   0   0   0   0   0   0\n",
      "    0   0   0   0   0]\n",
      " [  0   3   0   0   0   0   0   0   0   0   0   0   0   0   0   0   0   0\n",
      "    0   0   0   0   0]\n",
      " [  1  12   0   0   0   0   0   0   0   0   0   0   0   0   0   0   0   0\n",
      "    0   0   0   0   0]\n",
      " [  0  15   0   0   0   0   0   0   0   0   0   0   0   0   0   0   0   0\n",
      "    0   0   0   0   0]\n",
      " [  1   4   0   0   0   0   0   0   0   0   0   0   0   0   0   0   0   0\n",
      "    0   0   0   0   0]\n",
      " [  0   9   0   0   0   0   0   0   0   0   0   0   0   0   0   0   0   0\n",
      "    0   0   0   0   0]\n",
      " [  0  18   0   0   0   0   0   0   0   0   0   0   0   0   0   0   0   0\n",
      "    0   0   0   0   0]\n",
      " [  0  20   0   0   0   0   0   0   0   0   0   0   0   0   0   0   0   0\n",
      "    0   0   0   0   0]\n",
      " [  0   1   0   0   0   0   0   0   0   0   0   0   0   0   0   0   0   0\n",
      "    0   0   0   0   0]\n",
      " [  0   9   0   0   0   0   0   0   0   0   0   0   0   0   0   0   0   0\n",
      "    0   0   0   0   0]\n",
      " [  0   5   0   0   0   0   0   0   0   0   0   0   0   0   0   0   0   0\n",
      "    0   0   0   0   0]\n",
      " [  0   7   0   0   0   0   0   0   0   0   0   0   0   0   0   0   0   0\n",
      "    0   0   0   0   0]\n",
      " [  0  33   0   0   0   0   0   0   0   0   0   0   0   0   0   0   0   0\n",
      "    0   0   0   0   0]\n",
      " [  0   1   0   0   0   0   0   0   0   0   0   0   0   0   0   0   0   0\n",
      "    0   0   0   0   0]\n",
      " [  0   6   0   0   0   0   0   0   0   0   0   0   0   0   0   0   0   0\n",
      "    0   0   0   0   0]\n",
      " [  0   1   0   0   0   0   0   0   0   0   0   0   0   0   0   0   0   0\n",
      "    0   0   0   0   0]\n",
      " [  0   1   0   0   0   0   0   0   0   0   0   0   0   0   0   0   0   0\n",
      "    0   0   0   0   0]\n",
      " [  0   1   0   0   0   0   0   0   0   0   0   0   0   0   0   0   0   0\n",
      "    0   0   0   0   0]]\n"
     ]
    },
    {
     "name": "stderr",
     "output_type": "stream",
     "text": [
      "c:\\users\\administrator\\appdata\\local\\programs\\python\\python36\\lib\\site-packages\\sklearn\\metrics\\_classification.py:1221: UndefinedMetricWarning: Precision and F-score are ill-defined and being set to 0.0 in labels with no predicted samples. Use `zero_division` parameter to control this behavior.\n",
      "  _warn_prf(average, modifier, msg_start, len(result))\n"
     ]
    }
   ],
   "source": [
    "#做测试\n",
    "#预测结果\n",
    "predictions = mlp.predict(x_test)\n",
    "print(type(predictions))\n",
    "print(type(y_test))\n",
    "#预测结果和标签对比\n",
    "print(classification_report(predictions,y_test> 0.5))\n",
    "print(confusion_matrix(predictions,y_test> 0.5))\n",
    "\n"
   ]
  },
  {
   "cell_type": "code",
   "execution_count": 117,
   "metadata": {},
   "outputs": [
    {
     "data": {
      "text/plain": [
       "PCA(n_components=44)"
      ]
     },
     "execution_count": 117,
     "metadata": {},
     "output_type": "execute_result"
    }
   ],
   "source": [
    "pca = decomposition.PCA(n_components = 44)#降到10维度\n",
    "pca.fit(x_data)"
   ]
  },
  {
   "cell_type": "code",
   "execution_count": 118,
   "metadata": {},
   "outputs": [
    {
     "data": {
      "text/plain": [
       "array([7.83711478e+05, 8.97383209e+04, 3.18475914e+04, 2.30369822e+04,\n",
       "       1.30855578e+04, 5.27167423e+03, 3.22483018e+03, 2.77641810e+03,\n",
       "       2.42453781e+03, 1.82702554e+03, 1.46407305e+03, 9.78646023e+02,\n",
       "       6.60967374e+02, 3.28851421e+02, 2.12473580e+02, 1.09856843e+02,\n",
       "       9.34556934e+01, 6.22213651e+01, 4.12227878e+01, 2.01490585e+01,\n",
       "       1.77874591e+01, 1.21120236e+01, 1.09145801e+01, 9.66168129e+00,\n",
       "       7.67984798e+00, 3.42644419e+00, 1.29177171e+00, 1.03614692e+00,\n",
       "       1.01512652e+00, 6.09973673e-01, 4.79201098e-01, 1.13214723e-01,\n",
       "       1.83892483e-02, 1.77120579e-02, 1.29017311e-02, 4.08597852e-03,\n",
       "       1.17345059e-03, 3.07270433e-06, 5.68202768e-27, 5.68202768e-27,\n",
       "       5.68202768e-27, 5.68202768e-27, 5.68202768e-27, 5.68202768e-27])"
      ]
     },
     "execution_count": 118,
     "metadata": {},
     "output_type": "execute_result"
    }
   ],
   "source": [
    "#方差\n",
    "'''\n",
    "每个特征从大到小占比\n",
    "'''\n",
    "pca.explained_variance_"
   ]
  },
  {
   "cell_type": "code",
   "execution_count": 119,
   "metadata": {},
   "outputs": [
    {
     "data": {
      "text/plain": [
       "array([8.15531465e-01, 9.33818457e-02, 3.31406565e-02, 2.39723220e-02,\n",
       "       1.36168532e-02, 5.48571295e-03, 3.35576364e-03, 2.88914528e-03,\n",
       "       2.52297807e-03, 1.90120580e-03, 1.52351684e-03, 1.01838068e-03,\n",
       "       6.87803746e-04, 3.42203335e-04, 2.21100360e-04, 1.14317213e-04,\n",
       "       9.72501497e-05, 6.47476558e-05, 4.28965014e-05, 2.09671437e-05,\n",
       "       1.85096595e-05, 1.26037918e-05, 1.13577302e-05, 1.00539616e-05,\n",
       "       7.99166255e-06, 3.56556351e-06, 1.34421978e-06, 1.07821620e-06,\n",
       "       1.05634234e-06, 6.34739616e-07, 4.98657458e-07, 1.17811429e-07,\n",
       "       1.91358823e-08, 1.84311968e-08, 1.34255627e-08, 4.25187603e-09,\n",
       "       1.22109463e-09, 3.19746122e-12, 5.91272744e-33, 5.91272744e-33,\n",
       "       5.91272744e-33, 5.91272744e-33, 5.91272744e-33, 5.91272744e-33])"
      ]
     },
     "execution_count": 119,
     "metadata": {},
     "output_type": "execute_result"
    }
   ],
   "source": [
    "#方差占比\n",
    "#每个维度占比信息量\n",
    "pca.explained_variance_ratio_\n",
    "#一个占比大于81%，信息量太单一"
   ]
  },
  {
   "cell_type": "code",
   "execution_count": 120,
   "metadata": {},
   "outputs": [],
   "source": [
    "#遍历方差占比求和\n",
    "variance = []\n",
    "for i in range(len(pca.explained_variance_ratio_)):\n",
    "    variance.append(sum(pca.explained_variance_ratio_[:i+1]))"
   ]
  },
  {
   "cell_type": "code",
   "execution_count": 122,
   "metadata": {},
   "outputs": [
    {
     "data": {
      "image/png": "[encoded data removed]",
      "text/plain": [
       "<Figure size 432x288 with 1 Axes>"
      ]
     },
     "metadata": {
      "needs_background": "light"
     },
     "output_type": "display_data"
    }
   ],
   "source": [
    "plt.plot(range(1,len(pca.explained_variance_ratio_)+1),variance)\n",
    "plt.show()"
   ]
  },
  {
   "cell_type": "code",
   "execution_count": 164,
   "metadata": {},
   "outputs": [
    {
     "data": {
      "text/plain": [
       "PCA(n_components=0.9)"
      ]
     },
     "execution_count": 164,
     "metadata": {},
     "output_type": "execute_result"
    }
   ],
   "source": [
    "pca =decomposition.PCA(n_components = 0.90) #>90%信息，所需要的维度\n",
    "pca.fit(x_data)"
   ]
  },
  {
   "cell_type": "code",
   "execution_count": 165,
   "metadata": {},
   "outputs": [
    {
     "data": {
      "text/plain": [
       "array([0.81553146, 0.09338185])"
      ]
     },
     "execution_count": 165,
     "metadata": {},
     "output_type": "execute_result"
    }
   ],
   "source": [
    "pca.explained_variance_ratio_"
   ]
  },
  {
   "cell_type": "code",
   "execution_count": 166,
   "metadata": {},
   "outputs": [
    {
     "data": {
      "text/html": [
       "<div>\n",
       "<style scoped>\n",
       "    .dataframe tbody tr th:only-of-type {\n",
       "        vertical-align: middle;\n",
       "    }\n",
       "\n",
       "    .dataframe tbody tr th {\n",
       "        vertical-align: top;\n",
       "    }\n",
       "\n",
       "    .dataframe thead th {\n",
       "        text-align: right;\n",
       "    }\n",
       "</style>\n",
       "<table border=\"1\" class=\"dataframe\">\n",
       "  <thead>\n",
       "    <tr style=\"text-align: right;\">\n",
       "      <th></th>\n",
       "      <th>0</th>\n",
       "      <th>1</th>\n",
       "    </tr>\n",
       "  </thead>\n",
       "  <tbody>\n",
       "    <tr>\n",
       "      <th>0</th>\n",
       "      <td>-455.603116</td>\n",
       "      <td>266.699086</td>\n",
       "    </tr>\n",
       "    <tr>\n",
       "      <th>1</th>\n",
       "      <td>-766.838688</td>\n",
       "      <td>-53.693477</td>\n",
       "    </tr>\n",
       "    <tr>\n",
       "      <th>2</th>\n",
       "      <td>1644.337117</td>\n",
       "      <td>218.417336</td>\n",
       "    </tr>\n",
       "    <tr>\n",
       "      <th>3</th>\n",
       "      <td>2026.697521</td>\n",
       "      <td>427.688162</td>\n",
       "    </tr>\n",
       "    <tr>\n",
       "      <th>4</th>\n",
       "      <td>-766.839183</td>\n",
       "      <td>-53.693714</td>\n",
       "    </tr>\n",
       "    <tr>\n",
       "      <th>...</th>\n",
       "      <td>...</td>\n",
       "      <td>...</td>\n",
       "    </tr>\n",
       "    <tr>\n",
       "      <th>2268</th>\n",
       "      <td>-475.403068</td>\n",
       "      <td>-45.675003</td>\n",
       "    </tr>\n",
       "    <tr>\n",
       "      <th>2269</th>\n",
       "      <td>717.381218</td>\n",
       "      <td>-69.896403</td>\n",
       "    </tr>\n",
       "    <tr>\n",
       "      <th>2270</th>\n",
       "      <td>-580.405827</td>\n",
       "      <td>-63.092482</td>\n",
       "    </tr>\n",
       "    <tr>\n",
       "      <th>2271</th>\n",
       "      <td>-766.836958</td>\n",
       "      <td>-53.692647</td>\n",
       "    </tr>\n",
       "    <tr>\n",
       "      <th>2272</th>\n",
       "      <td>715.869855</td>\n",
       "      <td>-221.393079</td>\n",
       "    </tr>\n",
       "  </tbody>\n",
       "</table>\n",
       "<p>2273 rows × 2 columns</p>\n",
       "</div>"
      ],
      "text/plain": [
       "                0           1\n",
       "0     -455.603116  266.699086\n",
       "1     -766.838688  -53.693477\n",
       "2     1644.337117  218.417336\n",
       "3     2026.697521  427.688162\n",
       "4     -766.839183  -53.693714\n",
       "...           ...         ...\n",
       "2268  -475.403068  -45.675003\n",
       "2269   717.381218  -69.896403\n",
       "2270  -580.405827  -63.092482\n",
       "2271  -766.836958  -53.692647\n",
       "2272   715.869855 -221.393079\n",
       "\n",
       "[2273 rows x 2 columns]"
      ]
     },
     "execution_count": 166,
     "metadata": {},
     "output_type": "execute_result"
    }
   ],
   "source": [
    "x_train_pca = pca.transform(x_train)\n",
    "x_train_pca = pd.DataFrame(x_train_pca)\n",
    "x_train_pca"
   ]
  },
  {
   "cell_type": "code",
   "execution_count": 168,
   "metadata": {},
   "outputs": [],
   "source": [
    "y_train = y_train.fillna(0)"
   ]
  },
  {
   "cell_type": "code",
   "execution_count": 169,
   "metadata": {},
   "outputs": [
    {
     "name": "stderr",
     "output_type": "stream",
     "text": [
      "c:\\users\\administrator\\appdata\\local\\programs\\python\\python36\\lib\\site-packages\\sklearn\\utils\\validation.py:73: DataConversionWarning: A column-vector y was passed when a 1d array was expected. Please change the shape of y to (n_samples, ), for example using ravel().\n",
      "  return f(**kwargs)\n"
     ]
    },
    {
     "data": {
      "text/plain": [
       "MLPClassifier(hidden_layer_sizes=(100, 50), max_iter=500)"
      ]
     },
     "execution_count": 169,
     "metadata": {},
     "output_type": "execute_result"
    }
   ],
   "source": [
    "mlp = MLPClassifier(hidden_layer_sizes = (100,50),max_iter = 500)\n",
    "y_train = pd.DataFrame(y_train.fillna(0))\n",
    "y_train = y_train.astype('int')\n",
    "mlp.fit(x_train_pca,y_train)"
   ]
  },
  {
   "cell_type": "code",
   "execution_count": 170,
   "metadata": {},
   "outputs": [
    {
     "name": "stdout",
     "output_type": "stream",
     "text": [
      "              precision    recall  f1-score   support\n",
      "\n",
      "           0       0.97      0.80      0.88       625\n",
      "           1       0.00      0.00      0.00         0\n",
      "           2       0.00      0.00      0.00        14\n",
      "           3       0.00      0.00      0.00         6\n",
      "           4       0.00      0.00      0.00        48\n",
      "           6       0.00      0.00      0.00        33\n",
      "           8       0.00      0.00      0.00        24\n",
      "          18       0.00      0.00      0.00         8\n",
      "\n",
      "    accuracy                           0.66       758\n",
      "   macro avg       0.12      0.10      0.11       758\n",
      "weighted avg       0.80      0.66      0.72       758\n",
      "\n",
      "[[500 125   0   0   0   0   0   0]\n",
      " [  0   0   0   0   0   0   0   0]\n",
      " [  1  13   0   0   0   0   0   0]\n",
      " [  2   4   0   0   0   0   0   0]\n",
      " [  4  44   0   0   0   0   0   0]\n",
      " [  4  29   0   0   0   0   0   0]\n",
      " [  1  23   0   0   0   0   0   0]\n",
      " [  2   6   0   0   0   0   0   0]]\n"
     ]
    },
    {
     "name": "stderr",
     "output_type": "stream",
     "text": [
      "c:\\users\\administrator\\appdata\\local\\programs\\python\\python36\\lib\\site-packages\\sklearn\\metrics\\_classification.py:1221: UndefinedMetricWarning: Precision and F-score are ill-defined and being set to 0.0 in labels with no predicted samples. Use `zero_division` parameter to control this behavior.\n",
      "  _warn_prf(average, modifier, msg_start, len(result))\n",
      "c:\\users\\administrator\\appdata\\local\\programs\\python\\python36\\lib\\site-packages\\sklearn\\metrics\\_classification.py:1221: UndefinedMetricWarning: Recall and F-score are ill-defined and being set to 0.0 in labels with no true samples. Use `zero_division` parameter to control this behavior.\n",
      "  _warn_prf(average, modifier, msg_start, len(result))\n"
     ]
    }
   ],
   "source": [
    "x_test_pca = pca.transform(x_test)\n",
    "predictions = mlp.predict(x_test_pca)\n",
    "\n",
    "#预测结果和标签对比\n",
    "print(classification_report(predictions,y_test> 0.5))\n",
    "print(confusion_matrix(predictions,y_test> 0.5))"
   ]
  }
 ],
 "metadata": {
  "kernelspec": {
   "display_name": "Python 3",
   "language": "python",
   "name": "python3"
  },
  "language_info": {
   "codemirror_mode": {
    "name": "ipython",
    "version": 3
   },
   "file_extension": ".py",
   "mimetype": "text/x-python",
   "name": "python",
   "nbconvert_exporter": "python",
   "pygments_lexer": "ipython3",
   "version": "3.6.5"
  }
 },
 "nbformat": 4,
 "nbformat_minor": 4
}
