{
 "cells": [
  {
   "cell_type": "code",
   "execution_count": 7,
   "metadata": {},
   "outputs": [],
   "source": [
    "%matplotlib inline\n",
    "\n",
    "# データ解析用ライブラリ\n",
    "import pandas as pd\n",
    "import numpy as np\n",
    "\n",
    "# データ可視化用ライブラリ\n",
    "import matplotlib.pyplot as plt\n",
    "\n",
    "# Scikit-learn\n",
    "from sklearn.metrics import mean_squared_error\n",
    "from sklearn.metrics import r2_score\n",
    "from sklearn.model_selection import KFold, StratifiedKFold\n",
    "from sklearn import linear_model\n",
    "from sklearn.ensemble import RandomForestRegressor\n",
    "import seaborn as sns\n",
    "plt.rcParams['font.sans-serif'] = ['SimHei']  # 用黑体显示中文\n",
    "plt.rcParams['axes.unicode_minus'] = False   #解决保存图像是负号‘-’显示为方块的问题\n",
    "sns.set(font='SimHei') #解决Seaborn中文显示问题\n",
    "%matplotlib inline\n",
    "# LightGBM\n",
    "import lightgbm as lgb"
   ]
  },
  {
   "cell_type": "code",
   "execution_count": 13,
   "metadata": {},
   "outputs": [],
   "source": [
    "# データの読み込み\n",
    "df = pd.read_pickle('data7_mod_test.pkl')\n",
    "df = df.fillna(0)\n",
    "#df = pd.read_excel(r'C:xxx.xlsx', sheet_name='yyy', header=0)\n",
    "# 予測したい変数の設定\n",
    "Objective_variable = '油耗量（当天）'"
   ]
  },
  {
   "cell_type": "code",
   "execution_count": 14,
   "metadata": {},
   "outputs": [
    {
     "data": {
      "text/plain": [
       "(7340, 398)"
      ]
     },
     "execution_count": 14,
     "metadata": {},
     "output_type": "execute_result"
    }
   ],
   "source": [
    "df.shape"
   ]
  },
  {
   "cell_type": "code",
   "execution_count": 15,
   "metadata": {},
   "outputs": [
    {
     "data": {
      "image/png": "[encoded data removed]",
      "text/plain": [
       "<Figure size 432x288 with 1 Axes>"
      ]
     },
     "metadata": {
      "needs_background": "light"
     },
     "output_type": "display_data"
    }
   ],
   "source": [
    "# ヒストグラムの確認\n",
    "data = np.array(df['油耗量（当天）'])\n",
    "plt.hist(data, bins=10, histtype='barstacked', ec='black')\n",
    "plt.xlabel(\"油耗量（当天）\")\n",
    "plt.show()"
   ]
  },
  {
   "cell_type": "code",
   "execution_count": null,
   "metadata": {},
   "outputs": [],
   "source": [
    "# スタッキング１段目（Random Forest)\n",
    "column_name = 'Random_Forest'\n",
    "\n",
    "# training dataの作成\n",
    "train =  df.drop(Objective_variable, axis=1)\n",
    "target = df[Objective_variable] \n",
    "\n",
    "# DataFrameの作成\n",
    "Train_pred_df = pd.DataFrame(index=df.index, columns=[])\n",
    "\n",
    "# 交差検証の回数\n",
    "Fold = 10  \n",
    "\n",
    "# 木の深さが異なるモデルによる推定\n",
    "for i in range(0, 5):\n",
    "    \n",
    "    max_depth=(i+1)*2\n",
    "    kf = KFold(n_splits=Fold, random_state=123, shuffle=True)\n",
    "    \n",
    "    pred_df_temp = pd.DataFrame({'index':0, column_name:0}, index=[1])\n",
    "    pred_df_temp_test = pd.DataFrame({'index':0, column_name:0}, index=[1])\n",
    "    \n",
    "    # 交差検証\n",
    "    for train_index, val_index in kf.split(train, train.index):\n",
    "        X_train = train.iloc[train_index]\n",
    "        X_test = train.iloc[val_index]\n",
    "        y_train = target.iloc[train_index]\n",
    "        y_test = target.iloc[val_index]\n",
    "        \n",
    "        clf = RandomForestRegressor(n_estimators=7340, criterion='mse', max_depth=max_depth)\n",
    "        clf = clf.fit(X_train, y_train.values.ravel())\n",
    "        y_pred = clf.predict(X_test)\n",
    "        y_pred = pd.DataFrame({'index':y_test.index, column_name:y_pred})\n",
    "        \n",
    "        pred_df_temp = pd.concat([pred_df_temp, y_pred], axis=0)\n",
    "        \n",
    "    # データの整理\n",
    "    pred_df_temp = pred_df_temp.sort_values('index').reset_index(drop=True).drop(index=[0]).set_index('index')\n",
    "    pred_df_temp = pd.concat([pred_df_temp, target], axis=1).rename(columns={str(Objective_variable) : 'true'})\n",
    "    \n",
    "    if i == 0:\n",
    "        Train_pred_df['true'] = pred_df_temp['true']\n",
    "        Train_pred_df[column_name + '_Maxdepth='+str(max_depth)] = pred_df_temp[column_name]\n",
    "    else:\n",
    "        Train_pred_df[column_name + '_Maxdepth='+str(max_depth)] = pred_df_temp[column_name]\n",
    "\n",
    "# 予測値の格納\n",
    "Random_Forest_train_pred = Train_pred_df"
   ]
  },
  {
   "cell_type": "code",
   "execution_count": null,
   "metadata": {},
   "outputs": [],
   "source": []
  }
 ],
 "metadata": {
  "kernelspec": {
   "display_name": "Python 3",
   "language": "python",
   "name": "python3"
  },
  "language_info": {
   "codemirror_mode": {
    "name": "ipython",
    "version": 3
   },
   "file_extension": ".py",
   "mimetype": "text/x-python",
   "name": "python",
   "nbconvert_exporter": "python",
   "pygments_lexer": "ipython3",
   "version": "3.6.5"
  }
 },
 "nbformat": 4,
 "nbformat_minor": 4
}
