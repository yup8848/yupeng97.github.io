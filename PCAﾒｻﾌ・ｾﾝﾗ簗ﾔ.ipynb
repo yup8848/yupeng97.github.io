{
 "cells": [
  {
   "cell_type": "code",
   "execution_count": 69,
   "metadata": {},
   "outputs": [],
   "source": [
    "from sklearn.neural_network import MLPClassifier\n",
    "from sklearn.model_selection import train_test_split\n",
    "from sklearn.preprocessing import StandardScaler\n",
    "from sklearn.metrics import classification_report,confusion_matrix\n",
    "from sklearn import decomposition\n",
    "import matplotlib.pyplot as plt\n",
    "import pandas as pd\n",
    "import calendar\n",
    "import sklearn.preprocessing as pre_processing\n",
    "import numpy as np"
   ]
  },
  {
   "cell_type": "code",
   "execution_count": 70,
   "metadata": {},
   "outputs": [
    {
     "name": "stdout",
     "output_type": "stream",
     "text": [
      "True\n",
      "<class 'pandas.core.frame.DataFrame'>\n",
      "Int64Index: 2273 entries, 390 to 1258\n",
      "Data columns (total 44 columns):\n",
      " #   Column          Non-Null Count  Dtype  \n",
      "---  ------          --------------  -----  \n",
      " 0   吨位              2273 non-null   float64\n",
      " 1   当日有派车次数         2273 non-null   float64\n",
      " 2   全天行驶里程km        2273 non-null   float64\n",
      " 3   其中任务行驶里程km      2273 non-null   float64\n",
      " 4   全天运行时长（点火时长）hh  2273 non-null   float64\n",
      " 5   其中任务行驶时长hh      2273 non-null   float64\n",
      " 6   全天静驶时长          2273 non-null   float64\n",
      " 7   平均时速km/h        2273 non-null   float64\n",
      " 8   最大扭距            2273 non-null   float64\n",
      " 9   平均扭距            2273 non-null   float64\n",
      " 10  急刹车次数           2273 non-null   float64\n",
      " 11  超速报警次数          2273 non-null   float64\n",
      " 12  前3日平均运行里程km     2273 non-null   float64\n",
      " 13  前3日日平均运行时长h     2273 non-null   float64\n",
      " 14  近4日平均运行里程km     2273 non-null   float64\n",
      " 15  近4日日平均运行时长h     2273 non-null   float64\n",
      " 16  怠速次数            2273 non-null   float64\n",
      " 17  怠速时长mm          2273 non-null   float64\n",
      " 18  任务百公里油耗（L）      2273 non-null   float64\n",
      " 19  全里程百公里油耗（L）     2273 non-null   float64\n",
      " 20  高档低速次数          2273 non-null   float64\n",
      " 21  高档低速累计时长mm      2273 non-null   float64\n",
      " 22  低档高速次数          2273 non-null   float64\n",
      " 23  低档高速累计时长mm      2273 non-null   float64\n",
      " 24  空档滑行次数          2273 non-null   float64\n",
      " 25  空档滑行时长mm        2273 non-null   float64\n",
      " 26  Can设备状态         2273 non-null   float64\n",
      " 27  市趟次数            2273 non-null   float64\n",
      " 28  一干次数            2273 non-null   float64\n",
      " 29  二干次数            2273 non-null   float64\n",
      " 30  里程标杆值km         2273 non-null   float64\n",
      " 31  实际里程参考值km       2273 non-null   float64\n",
      " 32  位置总数            2273 non-null   float64\n",
      " 33  未锁星数            2273 non-null   float64\n",
      " 34  延迟位置数           2273 non-null   float64\n",
      " 35  行驶位置数           2273 non-null   float64\n",
      " 36  间隔大位置数          2273 non-null   float64\n",
      " 37  ACC关位置数         2273 non-null   float64\n",
      " 38  行驶时长            2273 non-null   float64\n",
      " 39  拉直线次数           2273 non-null   float64\n",
      " 40  拉直线总距离          2273 non-null   float64\n",
      " 41  设备类型            2273 non-null   float64\n",
      " 42  在线时长            2273 non-null   float64\n",
      " 43  里程误差            2273 non-null   float64\n",
      "dtypes: float64(44)\n",
      "memory usage: 799.1 KB\n",
      "None\n"
     ]
    },
    {
     "data": {
      "text/plain": [
       "[]"
      ]
     },
     "execution_count": 70,
     "metadata": {},
     "output_type": "execute_result"
    }
   ],
   "source": [
    "datasets = pd.read_excel('..\\【071】单车日报表.xlsx')\n",
    "\n",
    "#载入维度数据\n",
    "x_data = datasets[[ '吨位', '当日有派车次数',\n",
    "                   '全天行驶里程km', '其中任务行驶里程km', '全天运行时长（点火时长）hh', '其中任务行驶时长hh', '全天静驶时长',\n",
    "                   '平均时速km/h', '最大扭距', '平均扭距', '急刹车次数', '超速报警次数', '前3日平均运行里程km', '前3日日平均运行时长h',\n",
    "                   '近4日平均运行里程km', '近4日日平均运行时长h', '怠速次数', '怠速时长mm', '任务百公里油耗（L）', '全里程百公里油耗（L）'\n",
    "                   , '高档低速次数', '高档低速累计时长mm', '低档高速次数', '低档高速累计时长mm', '空档滑行次数', '空档滑行时长mm',\n",
    "                   'Can设备状态',  '市趟次数', '一干次数', '二干次数', '里程标杆值km',\n",
    "                  '实际里程参考值km', '位置总数', '未锁星数', '延迟位置数',\n",
    "                   '行驶位置数', '间隔大位置数', 'ACC关位置数',  '行驶时长', '拉直线次数', '拉直线总距离', \n",
    "                   '设备类型', '在线时长', '里程误差']]\n",
    "x_data = x_data.replace([np.inf, -np.inf], np.nan)\n",
    "x_data = x_data.fillna(0)\n",
    "\n",
    "\n",
    "\n",
    "#分割数据1/4为测试，3/4为训练数据\n",
    "x_train,x_test,y_train,y_test = train_test_split(x_data,y_data)\n",
    "\n",
    "#载入标签数据\n",
    "y_data = datasets['油耗量（当天）']\n",
    "print(y_train.isnull().any())\n",
    "\n",
    "print(x_train.info())\n",
    "\n",
    "'''\n",
    "'日期y/m/d', '车牌号', '配属单位', '使用单位', '车辆名称', '规格型号', '登记日期', '吨位', '当日有派车次数',\n",
    "                   '全天行驶里程km', '其中任务行驶里程km', '全天运行时长（点火时长）hh', '其中任务行驶时长hh', '全天静驶时长',\n",
    "                   '平均时速km/h', '最大扭距', '平均扭距', '急刹车次数', '超速报警次数', '前3日平均运行里程km', '前3日日平均运行时长h',\n",
    "                   '近4日平均运行里程km', '近4日日平均运行时长h', '怠速次数', '怠速时长mm', '任务百公里油耗（L）', '全里程百公里油耗（L）'\n",
    "                   , '高档低速次数', '高档低速累计时长mm', '低档高速次数', '低档高速累计时长mm', '空档滑行次数', '空档滑行时长mm',\n",
    "                   'Can设备状态', '车型', '单位分组', '能源类型',  '市趟次数', '一干次数', '二干次数', '里程标杆值km',\n",
    "                   '里程利用率', '时长标杆值h', '时长利用率', '实际里程参考值km', '位置总数', '未锁星数', '未锁星占比', '延迟位置数',\n",
    "                   '行驶位置数', '间隔大位置数', 'ACC关位置数', '行驶时长', '拉直线次数', '拉直线总距离', '设备序列号', \n",
    "                   '设备类型', '在线时长', '设备状态', '24小时内离线', '里程误差', '报废状态', '311/388/29/72批次', '294无里程关注', \n",
    "                   '930速递', '118重汽'\n",
    "                   \n",
    "'''\n",
    "'''\n",
    "label=pre_processing.LabelEncoder()\n",
    "labels=label.fit_transform(['中','符','法','吧'])\n",
    "print(labels)\n",
    "'''\n",
    "\n",
    "\n",
    "\n",
    "\n",
    "#查看非数值的列\n",
    "unvalue_type = x_data.select_dtypes(include=object, exclude=None)\n",
    "unvalue_type.columns.values.tolist()\n",
    "\n"
   ]
  },
  {
   "cell_type": "code",
   "execution_count": 71,
   "metadata": {},
   "outputs": [
    {
     "data": {
      "text/plain": [
       "(2273, 44)"
      ]
     },
     "execution_count": 71,
     "metadata": {},
     "output_type": "execute_result"
    }
   ],
   "source": [
    "# standardize the feature 标准化\n",
    "sc = StandardScaler()\n",
    "x_train_std = sc.fit_transform(x_train)\n",
    "x_test_std = sc.fit_transform(x_test)\n",
    "x_train_std.shape"
   ]
  },
  {
   "cell_type": "code",
   "execution_count": 72,
   "metadata": {},
   "outputs": [
    {
     "data": {
      "text/plain": [
       "array([[-0.44262428, -0.24169139, -0.1860165 , ...,  0.        ,\n",
       "        -0.13013715, -0.01712084],\n",
       "       [ 0.48448919,  1.68252766,  0.80707673, ...,  0.        ,\n",
       "        -0.09744532,  0.05047019],\n",
       "       [-0.44262428, -0.24169139, -0.58264824, ...,  0.        ,\n",
       "        -0.75128197,  0.02365722],\n",
       "       ...,\n",
       "       [ 0.48448919, -0.24169139, -0.58264824, ...,  0.        ,\n",
       "        -0.75128197,  0.02365722],\n",
       "       [ 1.17982429, -0.24169139,  0.66174602, ...,  0.        ,\n",
       "         2.15223706,  0.05996645],\n",
       "       [-0.55851346, -0.24169139, -0.58264824, ...,  0.        ,\n",
       "         2.13286412,  0.02365722]])"
      ]
     },
     "execution_count": 72,
     "metadata": {},
     "output_type": "execute_result"
    }
   ],
   "source": [
    "x_train_std"
   ]
  },
  {
   "cell_type": "code",
   "execution_count": 74,
   "metadata": {},
   "outputs": [
    {
     "name": "stdout",
     "output_type": "stream",
     "text": [
      "values\n",
      "  [ 1.35742782e+01  4.63561618e+00  2.65345242e+00  2.26592417e+00\n",
      "  1.90312380e+00  1.66497831e+00  1.42991610e+00  1.23971035e+00\n",
      "  1.10510351e+00  1.04153268e+00  9.61676221e-01  8.66300209e-01\n",
      "  8.31373486e-01  7.30768222e-01  6.84714658e-01  5.65245343e-01\n",
      "  5.25369349e-01  4.58657438e-01  3.94186122e-01  3.79585650e-01\n",
      "  3.65095718e-01  3.33869879e-01  3.14650318e-01  1.93277307e-01\n",
      "  1.77063453e-01  1.63122719e-01  1.46277240e-01  1.12452037e-01\n",
      "  9.65459276e-02  8.69760919e-02  4.16801851e-02  2.58027367e-02\n",
      "  1.90643142e-02  1.37363762e-02  1.20876274e-02  3.42026159e-03\n",
      "  9.70366364e-04  6.75191396e-07 -4.61118256e-16 -6.10932249e-16\n",
      "  0.00000000e+00  0.00000000e+00  0.00000000e+00  0.00000000e+00] \n",
      "vector\n",
      "  [[ 0.14106055 -0.10894445 -0.11670664 ...  0.          0.\n",
      "   0.        ]\n",
      " [ 0.09443118 -0.03419338  0.00609593 ...  0.          0.\n",
      "   0.        ]\n",
      " [ 0.24651746 -0.11001466  0.05312278 ...  0.          0.\n",
      "   0.        ]\n",
      " ...\n",
      " [ 0.          0.          0.         ...  0.          0.\n",
      "   1.        ]\n",
      " [ 0.13215603  0.07355647  0.24640993 ...  0.          0.\n",
      "   0.        ]\n",
      " [-0.0201509   0.02298751 -0.07409125 ...  0.          0.\n",
      "   0.        ]]\n"
     ]
    }
   ],
   "source": [
    "cov_matrix = np.cov(x_train_std.T)\n",
    "eigen_val, eigen_vec = np.linalg.eig(cov_matrix)\n",
    "print(\"values\\n \", eigen_val, \"\\nvector\\n \", eigen_vec)# 可以打印看看"
   ]
  },
  {
   "cell_type": "code",
   "execution_count": 75,
   "metadata": {},
   "outputs": [
    {
     "data": {
      "image/png": "[encoded data removed]",
      "text/plain": [
       "<Figure size 432x288 with 1 Axes>"
      ]
     },
     "metadata": {
      "needs_background": "light"
     },
     "output_type": "display_data"
    }
   ],
   "source": [
    "# 解释方差比\n",
    "tot = sum(eigen_val) # 总特征值和\n",
    "var_exp = [(i / tot) for i in sorted(eigen_val, reverse=True)] # 计算解释方差比，降序\n",
    "# print(var_exp)\n",
    "cum_var_exp = np.cumsum(var_exp) # 累加方差比率\n",
    "plt.rcParams['font.sans-serif'] = ['SimHei'] # 显示中文\n",
    "plt.bar(range(1, 45), var_exp, alpha=0.5, align='center', label='独立解释方差') # 柱状 Individual_explained_variance\n",
    "plt.step(range(1, 45), cum_var_exp, where='mid', label='累加解释方差') # Cumulative_explained_variance\n",
    "plt.ylabel(\"解释方差率\")\n",
    "plt.xlabel(\"主成分索引\")\n",
    "plt.legend(loc='right')\n",
    "plt.show()\n"
   ]
  },
  {
   "cell_type": "code",
   "execution_count": 76,
   "metadata": {},
   "outputs": [],
   "source": [
    "# 特征变换\n",
    "eigen_pairs = [(np.abs(eigen_val[i]), eigen_vec[:, i]) for i in range(len(eigen_val))]\n",
    "eigen_pairs.sort(key=lambda k: k[0], reverse=True) # (特征值，特征向量)降序排列"
   ]
  },
  {
   "cell_type": "code",
   "execution_count": 77,
   "metadata": {
    "collapsed": true
   },
   "outputs": [
    {
     "data": {
      "text/plain": [
       "array([[ 0.14106055, -0.10894445],\n",
       "       [ 0.09443118, -0.03419338],\n",
       "       [ 0.24651746, -0.11001466],\n",
       "       [ 0.19257267, -0.25151496],\n",
       "       [ 0.23058786,  0.08006326],\n",
       "       [ 0.19212926, -0.24279422],\n",
       "       [ 0.14863933,  0.16494609],\n",
       "       [ 0.19689348,  0.11585263],\n",
       "       [ 0.        ,  0.        ],\n",
       "       [ 0.        ,  0.        ],\n",
       "       [ 0.14318297,  0.09030959],\n",
       "       [ 0.02233717, -0.03081819],\n",
       "       [ 0.22881265, -0.08509791],\n",
       "       [ 0.21198365,  0.06237815],\n",
       "       [ 0.24174641, -0.09613001],\n",
       "       [ 0.22323753,  0.06822534],\n",
       "       [ 0.1425133 ,  0.30427589],\n",
       "       [ 0.13473854,  0.27190242],\n",
       "       [ 0.12746456, -0.02312513],\n",
       "       [ 0.09547086,  0.14265331],\n",
       "       [ 0.18341252, -0.03936402],\n",
       "       [ 0.19634561, -0.21282326],\n",
       "       [ 0.07329768,  0.32548905],\n",
       "       [ 0.0703339 ,  0.3149946 ],\n",
       "       [ 0.15262524, -0.22387394],\n",
       "       [ 0.1501661 , -0.23723852],\n",
       "       [-0.12097695, -0.19862113],\n",
       "       [ 0.07465475, -0.00572569],\n",
       "       [ 0.13024068, -0.18213582],\n",
       "       [ 0.        ,  0.        ],\n",
       "       [ 0.20659528, -0.07397036],\n",
       "       [ 0.24632718, -0.10736537],\n",
       "       [ 0.2018968 ,  0.23298116],\n",
       "       [ 0.06766723,  0.15899937],\n",
       "       [ 0.01229742,  0.04702187],\n",
       "       [ 0.18569917,  0.20231608],\n",
       "       [ 0.02337743, -0.04937448],\n",
       "       [ 0.06145723,  0.05985766],\n",
       "       [ 0.24547965, -0.02455574],\n",
       "       [ 0.01422205, -0.0151064 ],\n",
       "       [ 0.02167257, -0.02274399],\n",
       "       [ 0.        ,  0.        ],\n",
       "       [ 0.13215603,  0.07355647],\n",
       "       [-0.0201509 ,  0.02298751]])"
      ]
     },
     "execution_count": 77,
     "metadata": {},
     "output_type": "execute_result"
    }
   ],
   "source": [
    "w = np.hstack((eigen_pairs[0][1][:, np.newaxis], eigen_pairs[1][1][:, np.newaxis])) # 降维投影矩阵W\n",
    "w"
   ]
  },
  {
   "cell_type": "code",
   "execution_count": 78,
   "metadata": {},
   "outputs": [
    {
     "data": {
      "text/plain": [
       "array([[ 0.96382233,  3.28360663],\n",
       "       [ 2.35525673, -0.66033843],\n",
       "       [-3.15395351, -1.2107915 ],\n",
       "       ...,\n",
       "       [-1.62920936, -1.03666063],\n",
       "       [ 2.78633451,  0.28978519],\n",
       "       [-1.9249308 , -0.58637597]])"
      ]
     },
     "execution_count": 78,
     "metadata": {},
     "output_type": "execute_result"
    }
   ],
   "source": [
    "x_train_pca = x_train_std.dot(w)\n",
    "x_train_pca"
   ]
  },
  {
   "cell_type": "code",
   "execution_count": 79,
   "metadata": {
    "scrolled": true
   },
   "outputs": [
    {
     "name": "stderr",
     "output_type": "stream",
     "text": [
      "c:\\users\\administrator\\appdata\\local\\programs\\python\\python36\\lib\\site-packages\\matplotlib\\backends\\backend_agg.py:238: RuntimeWarning: Glyph 8722 missing from current font.\n",
      "  font.set_text(s, 0.0, flags=flags)\n",
      "c:\\users\\administrator\\appdata\\local\\programs\\python\\python36\\lib\\site-packages\\matplotlib\\backends\\backend_agg.py:201: RuntimeWarning: Glyph 8722 missing from current font.\n",
      "  font.set_text(s, 0, flags=flags)\n"
     ]
    },
    {
     "data": {
      "image/png": "[encoded data removed]",
      "text/plain": [
       "<Figure size 432x288 with 1 Axes>"
      ]
     },
     "metadata": {
      "needs_background": "light"
     },
     "output_type": "display_data"
    }
   ],
   "source": [
    "color = ['r', 'g', 'b']\n",
    "marker = ['s', 'x', 'o']\n",
    "for l, c, m in zip(np.unique(y_train), color, marker):\n",
    "    plt.scatter(x_train_pca[y_train == l, 0],\n",
    "    x_train_pca[y_train == l, 1],\n",
    "    c=c, label=l, marker=m)\n",
    "plt.rcParams['font.sans-serif'] = ['SimHei'] # 显示中文\n",
    "plt.title('Result')\n",
    "plt.xlabel('PC1')\n",
    "plt.ylabel('PC2')\n",
    "plt.legend(loc='upper left')\n",
    "plt.show()"
   ]
  },
  {
   "cell_type": "code",
   "execution_count": 80,
   "metadata": {},
   "outputs": [
    {
     "name": "stdout",
     "output_type": "stream",
     "text": [
      "油耗量（当天）    False\n",
      "dtype: bool\n"
     ]
    },
    {
     "name": "stderr",
     "output_type": "stream",
     "text": [
      "c:\\users\\administrator\\appdata\\local\\programs\\python\\python36\\lib\\site-packages\\sklearn\\utils\\validation.py:73: DataConversionWarning: A column-vector y was passed when a 1d array was expected. Please change the shape of y to (n_samples, ), for example using ravel().\n",
      "  return f(**kwargs)\n"
     ]
    },
    {
     "data": {
      "text/plain": [
       "MLPClassifier(hidden_layer_sizes=(100, 50), max_iter=500)"
      ]
     },
     "execution_count": 80,
     "metadata": {},
     "output_type": "execute_result"
    }
   ],
   "source": [
    "#构建一个神经元-所有特征做训练\n",
    "#两隐藏层，一个100神经元，一个50神经元，epoch  500次\n",
    "mlp = MLPClassifier(hidden_layer_sizes = (100,50),max_iter = 500)\n",
    "y_train = pd.DataFrame(y_train.fillna(0))\n",
    "y_train = y_train.astype('int')\n",
    "print(y_train.isnull().any())\n",
    "mlp.fit(x_train,y_train)"
   ]
  },
  {
   "cell_type": "code",
   "execution_count": 81,
   "metadata": {},
   "outputs": [
    {
     "name": "stdout",
     "output_type": "stream",
     "text": [
      "False\n"
     ]
    }
   ],
   "source": [
    "print(y_test.isnull().any())"
   ]
  },
  {
   "cell_type": "code",
   "execution_count": 82,
   "metadata": {},
   "outputs": [
    {
     "name": "stdout",
     "output_type": "stream",
     "text": [
      "<class 'numpy.ndarray'>\n",
      "<class 'pandas.core.series.Series'>\n",
      "              precision    recall  f1-score   support\n",
      "\n",
      "           0       1.00      0.99      0.99       526\n",
      "           1       0.05      1.00      0.10        13\n",
      "           2       0.00      0.00      0.00        15\n",
      "           3       0.00      0.00      0.00        16\n",
      "           4       0.00      0.00      0.00        20\n",
      "           5       0.00      0.00      0.00         6\n",
      "           6       0.00      0.00      0.00        16\n",
      "           7       0.00      0.00      0.00         5\n",
      "           8       0.00      0.00      0.00        24\n",
      "           9       0.00      0.00      0.00        15\n",
      "          10       0.00      0.00      0.00         1\n",
      "          11       0.00      0.00      0.00        11\n",
      "          12       0.00      0.00      0.00         2\n",
      "          13       0.00      0.00      0.00         6\n",
      "          14       0.00      0.00      0.00         1\n",
      "          15       0.00      0.00      0.00        27\n",
      "          18       0.00      0.00      0.00        11\n",
      "          19       0.00      0.00      0.00         2\n",
      "          21       0.00      0.00      0.00        28\n",
      "          22       0.00      0.00      0.00         1\n",
      "          25       0.00      0.00      0.00         1\n",
      "          26       0.00      0.00      0.00         5\n",
      "          30       0.00      0.00      0.00         1\n",
      "          36       0.00      0.00      0.00         2\n",
      "         112       0.00      0.00      0.00         1\n",
      "         130       0.00      0.00      0.00         1\n",
      "         169       0.00      0.00      0.00         1\n",
      "\n",
      "    accuracy                           0.70       758\n",
      "   macro avg       0.04      0.07      0.04       758\n",
      "weighted avg       0.69      0.70      0.69       758\n",
      "\n",
      "[[520   6   0   0   0   0   0   0   0   0   0   0   0   0   0   0   0   0\n",
      "    0   0   0   0   0   0   0   0   0]\n",
      " [  0  13   0   0   0   0   0   0   0   0   0   0   0   0   0   0   0   0\n",
      "    0   0   0   0   0   0   0   0   0]\n",
      " [  0  15   0   0   0   0   0   0   0   0   0   0   0   0   0   0   0   0\n",
      "    0   0   0   0   0   0   0   0   0]\n",
      " [  0  16   0   0   0   0   0   0   0   0   0   0   0   0   0   0   0   0\n",
      "    0   0   0   0   0   0   0   0   0]\n",
      " [  0  20   0   0   0   0   0   0   0   0   0   0   0   0   0   0   0   0\n",
      "    0   0   0   0   0   0   0   0   0]\n",
      " [  0   6   0   0   0   0   0   0   0   0   0   0   0   0   0   0   0   0\n",
      "    0   0   0   0   0   0   0   0   0]\n",
      " [  0  16   0   0   0   0   0   0   0   0   0   0   0   0   0   0   0   0\n",
      "    0   0   0   0   0   0   0   0   0]\n",
      " [  0   5   0   0   0   0   0   0   0   0   0   0   0   0   0   0   0   0\n",
      "    0   0   0   0   0   0   0   0   0]\n",
      " [  0  24   0   0   0   0   0   0   0   0   0   0   0   0   0   0   0   0\n",
      "    0   0   0   0   0   0   0   0   0]\n",
      " [  0  15   0   0   0   0   0   0   0   0   0   0   0   0   0   0   0   0\n",
      "    0   0   0   0   0   0   0   0   0]\n",
      " [  0   1   0   0   0   0   0   0   0   0   0   0   0   0   0   0   0   0\n",
      "    0   0   0   0   0   0   0   0   0]\n",
      " [  0  11   0   0   0   0   0   0   0   0   0   0   0   0   0   0   0   0\n",
      "    0   0   0   0   0   0   0   0   0]\n",
      " [  0   2   0   0   0   0   0   0   0   0   0   0   0   0   0   0   0   0\n",
      "    0   0   0   0   0   0   0   0   0]\n",
      " [  0   6   0   0   0   0   0   0   0   0   0   0   0   0   0   0   0   0\n",
      "    0   0   0   0   0   0   0   0   0]\n",
      " [  0   1   0   0   0   0   0   0   0   0   0   0   0   0   0   0   0   0\n",
      "    0   0   0   0   0   0   0   0   0]\n",
      " [  0  27   0   0   0   0   0   0   0   0   0   0   0   0   0   0   0   0\n",
      "    0   0   0   0   0   0   0   0   0]\n",
      " [  0  11   0   0   0   0   0   0   0   0   0   0   0   0   0   0   0   0\n",
      "    0   0   0   0   0   0   0   0   0]\n",
      " [  0   2   0   0   0   0   0   0   0   0   0   0   0   0   0   0   0   0\n",
      "    0   0   0   0   0   0   0   0   0]\n",
      " [  0  28   0   0   0   0   0   0   0   0   0   0   0   0   0   0   0   0\n",
      "    0   0   0   0   0   0   0   0   0]\n",
      " [  1   0   0   0   0   0   0   0   0   0   0   0   0   0   0   0   0   0\n",
      "    0   0   0   0   0   0   0   0   0]\n",
      " [  0   1   0   0   0   0   0   0   0   0   0   0   0   0   0   0   0   0\n",
      "    0   0   0   0   0   0   0   0   0]\n",
      " [  0   5   0   0   0   0   0   0   0   0   0   0   0   0   0   0   0   0\n",
      "    0   0   0   0   0   0   0   0   0]\n",
      " [  0   1   0   0   0   0   0   0   0   0   0   0   0   0   0   0   0   0\n",
      "    0   0   0   0   0   0   0   0   0]\n",
      " [  0   2   0   0   0   0   0   0   0   0   0   0   0   0   0   0   0   0\n",
      "    0   0   0   0   0   0   0   0   0]\n",
      " [  0   1   0   0   0   0   0   0   0   0   0   0   0   0   0   0   0   0\n",
      "    0   0   0   0   0   0   0   0   0]\n",
      " [  0   1   0   0   0   0   0   0   0   0   0   0   0   0   0   0   0   0\n",
      "    0   0   0   0   0   0   0   0   0]\n",
      " [  0   1   0   0   0   0   0   0   0   0   0   0   0   0   0   0   0   0\n",
      "    0   0   0   0   0   0   0   0   0]]\n"
     ]
    },
    {
     "name": "stderr",
     "output_type": "stream",
     "text": [
      "c:\\users\\administrator\\appdata\\local\\programs\\python\\python36\\lib\\site-packages\\sklearn\\metrics\\_classification.py:1221: UndefinedMetricWarning: Precision and F-score are ill-defined and being set to 0.0 in labels with no predicted samples. Use `zero_division` parameter to control this behavior.\n",
      "  _warn_prf(average, modifier, msg_start, len(result))\n"
     ]
    },
    {
     "data": {
      "text/plain": [
       "'\\nF1值\\n为了能够评价不同算法的优劣，在Precision和Recall的基础上提出了F1值的概念，来对Precision和Recall进行整体评价。\\nF1的定义如下： F1值 = 正确率 * 召回率 * 2 / (正确率 + 召回率)\\n其中列表左边的一列为分类的标签名，右边support列为每个标签的出现次数．avg / total行为各列的均值（support列为总和）． \\nprecision recall f1-score三列分别为各个类别的精确度/召回率及 F1 F1值．\\n'"
      ]
     },
     "execution_count": 82,
     "metadata": {},
     "output_type": "execute_result"
    }
   ],
   "source": [
    "#做测试\n",
    "#预测结果\n",
    "predictions = mlp.predict(x_test)\n",
    "print(type(predictions))\n",
    "print(type(y_test))\n",
    "#预测结果和标签对比\n",
    "print(classification_report(predictions,y_test> 0.5))\n",
    "print(confusion_matrix(predictions,y_test> 0.5))\n",
    "\n",
    "'''\n",
    "F1值\n",
    "为了能够评价不同算法的优劣，在Precision和Recall的基础上提出了F1值的概念，来对Precision和Recall进行整体评价。\n",
    "F1的定义如下： F1值 = 正确率 * 召回率 * 2 / (正确率 + 召回率)\n",
    "其中列表左边的一列为分类的标签名，右边support列为每个标签的出现次数．avg / total行为各列的均值（support列为总和）． \n",
    "precision recall f1-score三列分别为各个类别的精确度/召回率及 F1 F1值．\n",
    "'''"
   ]
  },
  {
   "cell_type": "code",
   "execution_count": 84,
   "metadata": {},
   "outputs": [
    {
     "data": {
      "text/plain": [
       "PCA(n_components=44)"
      ]
     },
     "execution_count": 84,
     "metadata": {},
     "output_type": "execute_result"
    }
   ],
   "source": [
    "pca = decomposition.PCA(n_components = 44)#降到10维度\n",
    "pca.fit(x_data)"
   ]
  },
  {
   "cell_type": "code",
   "execution_count": 85,
   "metadata": {},
   "outputs": [
    {
     "data": {
      "text/plain": [
       "array([7.83711478e+05, 8.97383209e+04, 3.18475914e+04, 2.30369822e+04,\n",
       "       1.30855578e+04, 5.27167423e+03, 3.22483018e+03, 2.77641810e+03,\n",
       "       2.42453781e+03, 1.82702554e+03, 1.46407305e+03, 9.78646023e+02,\n",
       "       6.60967374e+02, 3.28851421e+02, 2.12473580e+02, 1.09856843e+02,\n",
       "       9.34556934e+01, 6.22213651e+01, 4.12227878e+01, 2.01490585e+01,\n",
       "       1.77874591e+01, 1.21120236e+01, 1.09145801e+01, 9.66168129e+00,\n",
       "       7.67984798e+00, 3.42644419e+00, 1.29177171e+00, 1.03614692e+00,\n",
       "       1.01512652e+00, 6.09973673e-01, 4.79201098e-01, 1.13214723e-01,\n",
       "       1.83892483e-02, 1.77120579e-02, 1.29017311e-02, 4.08597852e-03,\n",
       "       1.17345059e-03, 3.07270433e-06, 5.68202768e-27, 5.68202768e-27,\n",
       "       5.68202768e-27, 5.68202768e-27, 5.68202768e-27, 5.68202768e-27])"
      ]
     },
     "execution_count": 85,
     "metadata": {},
     "output_type": "execute_result"
    }
   ],
   "source": [
    "#方差\n",
    "'''\n",
    "每个特征从大到小占比\n",
    "'''\n",
    "pca.explained_variance_"
   ]
  },
  {
   "cell_type": "code",
   "execution_count": 86,
   "metadata": {},
   "outputs": [
    {
     "data": {
      "text/plain": [
       "array([8.15531465e-01, 9.33818457e-02, 3.31406565e-02, 2.39723220e-02,\n",
       "       1.36168532e-02, 5.48571295e-03, 3.35576364e-03, 2.88914528e-03,\n",
       "       2.52297807e-03, 1.90120580e-03, 1.52351684e-03, 1.01838068e-03,\n",
       "       6.87803746e-04, 3.42203335e-04, 2.21100360e-04, 1.14317213e-04,\n",
       "       9.72501497e-05, 6.47476558e-05, 4.28965014e-05, 2.09671437e-05,\n",
       "       1.85096595e-05, 1.26037918e-05, 1.13577302e-05, 1.00539616e-05,\n",
       "       7.99166255e-06, 3.56556351e-06, 1.34421978e-06, 1.07821620e-06,\n",
       "       1.05634234e-06, 6.34739616e-07, 4.98657458e-07, 1.17811429e-07,\n",
       "       1.91358823e-08, 1.84311968e-08, 1.34255627e-08, 4.25187603e-09,\n",
       "       1.22109463e-09, 3.19746122e-12, 5.91272744e-33, 5.91272744e-33,\n",
       "       5.91272744e-33, 5.91272744e-33, 5.91272744e-33, 5.91272744e-33])"
      ]
     },
     "execution_count": 86,
     "metadata": {},
     "output_type": "execute_result"
    }
   ],
   "source": [
    "#方差占比\n",
    "#每个维度占比信息量\n",
    "pca.explained_variance_ratio_\n",
    "#一个占比大于81%，信息量太单一"
   ]
  },
  {
   "cell_type": "code",
   "execution_count": 87,
   "metadata": {},
   "outputs": [],
   "source": [
    "#遍历方差占比求和\n",
    "variance = []\n",
    "for i in range(len(pca.explained_variance_ratio_)):\n",
    "    variance.append(sum(pca.explained_variance_ratio_[:i+1]))"
   ]
  },
  {
   "cell_type": "code",
   "execution_count": 88,
   "metadata": {},
   "outputs": [
    {
     "data": {
      "image/png": "[encoded data removed]",
      "text/plain": [
       "<Figure size 432x288 with 1 Axes>"
      ]
     },
     "metadata": {
      "needs_background": "light"
     },
     "output_type": "display_data"
    }
   ],
   "source": [
    "plt.plot(range(1,len(pca.explained_variance_ratio_)+1),variance)\n",
    "plt.show()"
   ]
  },
  {
   "cell_type": "code",
   "execution_count": 89,
   "metadata": {},
   "outputs": [
    {
     "data": {
      "text/plain": [
       "PCA(n_components=0.9)"
      ]
     },
     "execution_count": 89,
     "metadata": {},
     "output_type": "execute_result"
    }
   ],
   "source": [
    "pca =decomposition.PCA(n_components = 0.90) #>90%信息，所需要的维度\n",
    "pca.fit(x_data)"
   ]
  },
  {
   "cell_type": "code",
   "execution_count": 90,
   "metadata": {},
   "outputs": [
    {
     "data": {
      "text/plain": [
       "array([0.81553146, 0.09338185])"
      ]
     },
     "execution_count": 90,
     "metadata": {},
     "output_type": "execute_result"
    }
   ],
   "source": [
    "pca.explained_variance_ratio_"
   ]
  },
  {
   "cell_type": "code",
   "execution_count": 91,
   "metadata": {},
   "outputs": [
    {
     "data": {
      "text/html": [
       "<div>\n",
       "<style scoped>\n",
       "    .dataframe tbody tr th:only-of-type {\n",
       "        vertical-align: middle;\n",
       "    }\n",
       "\n",
       "    .dataframe tbody tr th {\n",
       "        vertical-align: top;\n",
       "    }\n",
       "\n",
       "    .dataframe thead th {\n",
       "        text-align: right;\n",
       "    }\n",
       "</style>\n",
       "<table border=\"1\" class=\"dataframe\">\n",
       "  <thead>\n",
       "    <tr style=\"text-align: right;\">\n",
       "      <th></th>\n",
       "      <th>0</th>\n",
       "      <th>1</th>\n",
       "    </tr>\n",
       "  </thead>\n",
       "  <tbody>\n",
       "    <tr>\n",
       "      <th>0</th>\n",
       "      <td>-216.805566</td>\n",
       "      <td>-54.312126</td>\n",
       "    </tr>\n",
       "    <tr>\n",
       "      <th>1</th>\n",
       "      <td>307.893451</td>\n",
       "      <td>-155.134939</td>\n",
       "    </tr>\n",
       "    <tr>\n",
       "      <th>2</th>\n",
       "      <td>-766.838688</td>\n",
       "      <td>-53.693477</td>\n",
       "    </tr>\n",
       "    <tr>\n",
       "      <th>3</th>\n",
       "      <td>825.768148</td>\n",
       "      <td>1226.911585</td>\n",
       "    </tr>\n",
       "    <tr>\n",
       "      <th>4</th>\n",
       "      <td>-256.952227</td>\n",
       "      <td>-102.328471</td>\n",
       "    </tr>\n",
       "    <tr>\n",
       "      <th>...</th>\n",
       "      <td>...</td>\n",
       "      <td>...</td>\n",
       "    </tr>\n",
       "    <tr>\n",
       "      <th>2268</th>\n",
       "      <td>-766.838688</td>\n",
       "      <td>-53.693477</td>\n",
       "    </tr>\n",
       "    <tr>\n",
       "      <th>2269</th>\n",
       "      <td>-766.839183</td>\n",
       "      <td>-53.693714</td>\n",
       "    </tr>\n",
       "    <tr>\n",
       "      <th>2270</th>\n",
       "      <td>-752.730856</td>\n",
       "      <td>-58.450019</td>\n",
       "    </tr>\n",
       "    <tr>\n",
       "      <th>2271</th>\n",
       "      <td>671.696304</td>\n",
       "      <td>1056.160794</td>\n",
       "    </tr>\n",
       "    <tr>\n",
       "      <th>2272</th>\n",
       "      <td>-287.621397</td>\n",
       "      <td>229.587964</td>\n",
       "    </tr>\n",
       "  </tbody>\n",
       "</table>\n",
       "<p>2273 rows × 2 columns</p>\n",
       "</div>"
      ],
      "text/plain": [
       "               0            1\n",
       "0    -216.805566   -54.312126\n",
       "1     307.893451  -155.134939\n",
       "2    -766.838688   -53.693477\n",
       "3     825.768148  1226.911585\n",
       "4    -256.952227  -102.328471\n",
       "...          ...          ...\n",
       "2268 -766.838688   -53.693477\n",
       "2269 -766.839183   -53.693714\n",
       "2270 -752.730856   -58.450019\n",
       "2271  671.696304  1056.160794\n",
       "2272 -287.621397   229.587964\n",
       "\n",
       "[2273 rows x 2 columns]"
      ]
     },
     "execution_count": 91,
     "metadata": {},
     "output_type": "execute_result"
    }
   ],
   "source": [
    "x_train_pca = pca.transform(x_train)\n",
    "x_train_pca = pd.DataFrame(x_train_pca)\n",
    "x_train_pca"
   ]
  },
  {
   "cell_type": "code",
   "execution_count": 92,
   "metadata": {},
   "outputs": [],
   "source": [
    "y_train = y_train.fillna(0)"
   ]
  },
  {
   "cell_type": "code",
   "execution_count": 93,
   "metadata": {},
   "outputs": [
    {
     "name": "stderr",
     "output_type": "stream",
     "text": [
      "c:\\users\\administrator\\appdata\\local\\programs\\python\\python36\\lib\\site-packages\\sklearn\\utils\\validation.py:73: DataConversionWarning: A column-vector y was passed when a 1d array was expected. Please change the shape of y to (n_samples, ), for example using ravel().\n",
      "  return f(**kwargs)\n"
     ]
    },
    {
     "data": {
      "text/plain": [
       "MLPClassifier(hidden_layer_sizes=(100, 50), max_iter=500)"
      ]
     },
     "execution_count": 93,
     "metadata": {},
     "output_type": "execute_result"
    }
   ],
   "source": [
    "mlp = MLPClassifier(hidden_layer_sizes = (100,50),max_iter = 500)\n",
    "y_train = pd.DataFrame(y_train.fillna(0))\n",
    "y_train = y_train.astype('int')\n",
    "mlp.fit(x_train_pca,y_train)"
   ]
  },
  {
   "cell_type": "code",
   "execution_count": 94,
   "metadata": {},
   "outputs": [
    {
     "name": "stdout",
     "output_type": "stream",
     "text": [
      "              precision    recall  f1-score   support\n",
      "\n",
      "           0       0.97      0.81      0.88       624\n",
      "           1       0.00      0.00      0.00         0\n",
      "           2       0.00      0.00      0.00         8\n",
      "           3       0.00      0.00      0.00         4\n",
      "           4       0.00      0.00      0.00        37\n",
      "           5       0.00      0.00      0.00        15\n",
      "           6       0.00      0.00      0.00        60\n",
      "           9       0.00      0.00      0.00         6\n",
      "          18       0.00      0.00      0.00         4\n",
      "\n",
      "    accuracy                           0.67       758\n",
      "   macro avg       0.11      0.09      0.10       758\n",
      "weighted avg       0.80      0.67      0.73       758\n",
      "\n",
      "[[506 118   0   0   0   0   0   0   0]\n",
      " [  0   0   0   0   0   0   0   0   0]\n",
      " [  1   7   0   0   0   0   0   0   0]\n",
      " [  0   4   0   0   0   0   0   0   0]\n",
      " [  4  33   0   0   0   0   0   0   0]\n",
      " [  1  14   0   0   0   0   0   0   0]\n",
      " [  7  53   0   0   0   0   0   0   0]\n",
      " [  1   5   0   0   0   0   0   0   0]\n",
      " [  1   3   0   0   0   0   0   0   0]]\n"
     ]
    },
    {
     "name": "stderr",
     "output_type": "stream",
     "text": [
      "c:\\users\\administrator\\appdata\\local\\programs\\python\\python36\\lib\\site-packages\\sklearn\\metrics\\_classification.py:1221: UndefinedMetricWarning: Precision and F-score are ill-defined and being set to 0.0 in labels with no predicted samples. Use `zero_division` parameter to control this behavior.\n",
      "  _warn_prf(average, modifier, msg_start, len(result))\n",
      "c:\\users\\administrator\\appdata\\local\\programs\\python\\python36\\lib\\site-packages\\sklearn\\metrics\\_classification.py:1221: UndefinedMetricWarning: Recall and F-score are ill-defined and being set to 0.0 in labels with no true samples. Use `zero_division` parameter to control this behavior.\n",
      "  _warn_prf(average, modifier, msg_start, len(result))\n"
     ]
    },
    {
     "data": {
      "text/plain": [
       "'\\n其中列表左边的一列为分类的标签名，右边support列为每个标签的出现次数．avg / total行为各列的均值（support列为总和）． \\nprecision recall f1-score三列分别为各个类别的精确度/召回率及 F1 F1值．\\n'"
      ]
     },
     "execution_count": 94,
     "metadata": {},
     "output_type": "execute_result"
    }
   ],
   "source": [
    "x_test_pca = pca.transform(x_test)\n",
    "predictions = mlp.predict(x_test_pca)\n",
    "\n",
    "#预测结果和标签对比\n",
    "print(classification_report(predictions,y_test> 0.5))\n",
    "print(confusion_matrix(predictions,y_test> 0.5))\n",
    "'''\n",
    "其中列表左边的一列为分类的标签名，右边support列为每个标签的出现次数．avg / total行为各列的均值（support列为总和）． \n",
    "precision recall f1-score三列分别为各个类别的精确度/召回率及 F1 F1值．\n",
    "'''"
   ]
  },
  {
   "cell_type": "code",
   "execution_count": 107,
   "metadata": {},
   "outputs": [
    {
     "name": "stderr",
     "output_type": "stream",
     "text": [
      "c:\\users\\administrator\\appdata\\local\\programs\\python\\python36\\lib\\site-packages\\sklearn\\utils\\validation.py:73: DataConversionWarning: A column-vector y was passed when a 1d array was expected. Please change the shape of y to (n_samples, ), for example using ravel().\n",
      "  return f(**kwargs)\n"
     ]
    },
    {
     "ename": "AttributeError",
     "evalue": "'MLPClassifier' object has no attribute 'history'",
     "output_type": "error",
     "traceback": [
      "\u001b[1;31m---------------------------------------------------------------------------\u001b[0m",
      "\u001b[1;31mAttributeError\u001b[0m                            Traceback (most recent call last)",
      "\u001b[1;32m<ipython-input-107-6665d7154fc5>\u001b[0m in \u001b[0;36m<module>\u001b[1;34m\u001b[0m\n\u001b[0;32m      1\u001b[0m \u001b[0mhistory\u001b[0m \u001b[1;33m=\u001b[0m \u001b[0mmlp\u001b[0m\u001b[1;33m.\u001b[0m\u001b[0mfit\u001b[0m\u001b[1;33m(\u001b[0m\u001b[0mx_train\u001b[0m\u001b[1;33m,\u001b[0m \u001b[0my_train\u001b[0m\u001b[1;33m)\u001b[0m\u001b[1;33m\u001b[0m\u001b[0m\n\u001b[1;32m----> 2\u001b[1;33m \u001b[0mprint\u001b[0m\u001b[1;33m(\u001b[0m\u001b[0mhistory\u001b[0m\u001b[1;33m.\u001b[0m\u001b[0mhistory\u001b[0m\u001b[1;33m.\u001b[0m\u001b[0mkeys\u001b[0m\u001b[1;33m(\u001b[0m\u001b[1;33m)\u001b[0m\u001b[1;33m)\u001b[0m\u001b[1;33m\u001b[0m\u001b[0m\n\u001b[0m\u001b[0;32m      3\u001b[0m \u001b[0mplt\u001b[0m\u001b[1;33m.\u001b[0m\u001b[0msubplot\u001b[0m\u001b[1;33m(\u001b[0m\u001b[1;33m)\u001b[0m\u001b[1;33m\u001b[0m\u001b[0m\n\u001b[0;32m      4\u001b[0m \u001b[0mplt\u001b[0m\u001b[1;33m.\u001b[0m\u001b[0mplot\u001b[0m\u001b[1;33m(\u001b[0m\u001b[0mhistory\u001b[0m\u001b[1;33m.\u001b[0m\u001b[0mhistory\u001b[0m\u001b[1;33m[\u001b[0m\u001b[1;34m'loss'\u001b[0m\u001b[1;33m]\u001b[0m\u001b[1;33m)\u001b[0m\u001b[1;33m\u001b[0m\u001b[0m\n\u001b[0;32m      5\u001b[0m \u001b[0mplt\u001b[0m\u001b[1;33m.\u001b[0m\u001b[0mplot\u001b[0m\u001b[1;33m(\u001b[0m\u001b[0mhistory\u001b[0m\u001b[1;33m.\u001b[0m\u001b[0mhistory\u001b[0m\u001b[1;33m[\u001b[0m\u001b[1;34m'val_loss'\u001b[0m\u001b[1;33m]\u001b[0m\u001b[1;33m)\u001b[0m\u001b[1;33m\u001b[0m\u001b[0m\n",
      "\u001b[1;31mAttributeError\u001b[0m: 'MLPClassifier' object has no attribute 'history'"
     ]
    }
   ],
   "source": [
    "history = mlp.fit(x_train, y_train)\n",
    "print(history.history.keys())\n",
    "plt.subplot()\n",
    "plt.plot(history.history['loss'])\n",
    "plt.plot(history.history['val_loss'])\n",
    "plt.title('Model Loss')\n",
    "plt.ylabel('Loss')\n",
    "plt.xlabel('Epoch')\n",
    "plt.legend(['Training', 'Validation'], loc='upper right')\n",
    "plt.tight_layout()"
   ]
  },
  {
   "cell_type": "code",
   "execution_count": 1,
   "metadata": {},
   "outputs": [
    {
     "data": {
      "text/plain": [
       "'E:\\\\货车油耗预测\\\\can-GPS 论文\\\\单车日报表\\\\.ipynb_checkpoints'"
      ]
     },
     "execution_count": 1,
     "metadata": {},
     "output_type": "execute_result"
    }
   ],
   "source": [
    "import os\n",
    "os.getcwd()"
   ]
  },
  {
   "cell_type": "code",
   "execution_count": null,
   "metadata": {},
   "outputs": [],
   "source": []
  },
  {
   "cell_type": "code",
   "execution_count": null,
   "metadata": {},
   "outputs": [],
   "source": []
  }
 ],
 "metadata": {
  "kernelspec": {
   "display_name": "Python 3",
   "language": "python",
   "name": "python3"
  },
  "language_info": {
   "codemirror_mode": {
    "name": "ipython",
    "version": 3
   },
   "file_extension": ".py",
   "mimetype": "text/x-python",
   "name": "python",
   "nbconvert_exporter": "python",
   "pygments_lexer": "ipython3",
   "version": "3.6.5"
  }
 },
 "nbformat": 4,
 "nbformat_minor": 4
}
